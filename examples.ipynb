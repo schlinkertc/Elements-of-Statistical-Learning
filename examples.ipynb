{
 "cells": [
  {
   "cell_type": "markdown",
   "metadata": {},
   "source": [
    "# \"Elements of Statistical Learning\"\n",
    "### Trevor Hastie, Robert Tibshirani, Jerome Friedman "
   ]
  },
  {
   "cell_type": "markdown",
   "metadata": {},
   "source": [
    "#### Section 2.3.3"
   ]
  },
  {
   "cell_type": "markdown",
   "metadata": {},
   "source": [
    "##### Simulated data: \n",
    "- Generate 10 means m<sub>k</sub> from a bivariate Gaussian distribution N((1,0)<sup>T</sup>,I) and label class Blue.\n",
    "- Generate 10 means m<sub>k</sub> from a bivariate Gaussian distribution N((0,1)<sup>T</sup>,I) and label class Orange.\n",
    "- for each class, generate 100 additional observations as follows:\n",
    "    - for each observation pick m<sub>k</sub> at random with probability 1/10 and generate N(m<sub>k</sub>,I/5)\n",
    "This leads to a mixture of Gaussian clusters for each class (Page. "
   ]
  },
  {
   "cell_type": "code",
   "execution_count": null,
   "metadata": {},
   "outputs": [],
   "source": []
  },
  {
   "cell_type": "code",
   "execution_count": 6,
   "metadata": {},
   "outputs": [],
   "source": [
    "import numpy as np\n",
    "import random\n",
    "import pandas as pd\n",
    "\n",
    "np.random.seed(12)\n",
    "random.seed(12)"
   ]
  },
  {
   "cell_type": "code",
   "execution_count": 18,
   "metadata": {},
   "outputs": [
    {
     "data": {
      "image/png": "[encoded data removed]",
      "text/plain": [
       "<Figure size 432x288 with 1 Axes>"
      ]
     },
     "metadata": {
      "needs_background": "light"
     },
     "output_type": "display_data"
    }
   ],
   "source": [
    "def generate_data(size=100):\n",
    "    size_1 = round(size*.0909)\n",
    "    cov = np.identity(2)\n",
    "    classes = {\n",
    "        'blue':np.array([1,0]).T,\n",
    "        'orange':np.array([0,1]).T\n",
    "    }\n",
    "    dfs = []\n",
    "    for G in classes.keys():\n",
    "        means = np.random.multivariate_normal(classes[G],cov,size=size_1)\n",
    "        classes[G] = np.append(means,np.random.multivariate_normal(random.choice(means),cov/5,size=size-size_1),axis=0)\n",
    "\n",
    "        df = pd.DataFrame(classes[G],columns=['X_1','X_2'])\n",
    "        df['Y']=G\n",
    "        dfs.append(df)\n",
    "    df=dfs[0].append(dfs[1])\n",
    "    return df\n",
    "df = generate_data()\n",
    "\n",
    "import matplotlib.pyplot as plt\n",
    "%matplotlib inline\n",
    "plt.scatter(df['X_1'],df['X_2'],c=df['Y'])\n",
    "plt.show()"
   ]
  },
  {
   "cell_type": "code",
   "execution_count": 22,
   "metadata": {},
   "outputs": [],
   "source": [
    "m = np.array([1,0]).T\n",
    "cov = np.identity(2)"
   ]
  },
  {
   "cell_type": "code",
   "execution_count": 24,
   "metadata": {},
   "outputs": [
    {
     "data": {
      "text/plain": [
       "array([[-0.29808972,  0.68637367],\n",
       "       [-0.33842167, -1.65824952],\n",
       "       [ 1.99464581,  0.04118174],\n",
       "       [ 0.97846385, -1.48676976],\n",
       "       [-0.03054831,  0.47175867],\n",
       "       [ 2.87410008, -1.1662395 ],\n",
       "       [ 2.79764746, -1.36382414],\n",
       "       [ 0.38291706,  1.00741448],\n",
       "       [ 0.52294816,  0.89991862],\n",
       "       [ 0.72489563, -0.89770191]])"
      ]
     },
     "execution_count": 24,
     "metadata": {},
     "output_type": "execute_result"
    }
   ],
   "source": [
    "means = np.random.multivariate_normal(m,cov,size=10)\n",
    "means"
   ]
  },
  {
   "cell_type": "code",
   "execution_count": 27,
   "metadata": {},
   "outputs": [
    {
     "data": {
      "text/plain": [
       "array([-0.22767859,  0.66870155])"
      ]
     },
     "execution_count": 27,
     "metadata": {},
     "output_type": "execute_result"
    }
   ],
   "source": [
    "np.random.multivariate_normal(means[0],cov/5)"
   ]
  },
  {
   "cell_type": "code",
   "execution_count": 34,
   "metadata": {},
   "outputs": [
    {
     "data": {
      "text/plain": [
       "array([ 2.58036116, -1.6685941 ])"
      ]
     },
     "execution_count": 34,
     "metadata": {},
     "output_type": "execute_result"
    }
   ],
   "source": [
    "observations = np.array([])\n",
    "count = 1\n",
    "for i in range(0,100):\n",
    "    while count < 100:\n",
    "        np.append(observations,\n",
    "              np.random.multivariate_normal(random.choice(means),cov/5))\n",
    "        count"
   ]
  },
  {
   "cell_type": "code",
   "execution_count": 32,
   "metadata": {},
   "outputs": [
    {
     "data": {
      "text/plain": [
       "array([], dtype=float64)"
      ]
     },
     "execution_count": 32,
     "metadata": {},
     "output_type": "execute_result"
    }
   ],
   "source": [
    "observations"
   ]
  },
  {
   "cell_type": "code",
   "execution_count": null,
   "metadata": {},
   "outputs": [],
   "source": []
  }
 ],
 "metadata": {
  "kernelspec": {
   "display_name": "Python 3",
   "language": "python",
   "name": "python3"
  },
  "language_info": {
   "codemirror_mode": {
    "name": "ipython",
    "version": 3
   },
   "file_extension": ".py",
   "mimetype": "text/x-python",
   "name": "python",
   "nbconvert_exporter": "python",
   "pygments_lexer": "ipython3",
   "version": "3.7.3"
  }
 },
 "nbformat": 4,
 "nbformat_minor": 4
}

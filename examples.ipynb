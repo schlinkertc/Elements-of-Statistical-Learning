{
 "cells": [
  {
   "cell_type": "markdown",
   "metadata": {},
   "source": [
    "# \"Elements of Statistical Learning\"\n",
    "### Trevor Hastie, Robert Tibshirani, Jerome Friedman "
   ]
  },
  {
   "cell_type": "markdown",
   "metadata": {},
   "source": [
    "#### Section 2.3.3"
   ]
  },
  {
   "cell_type": "markdown",
   "metadata": {},
   "source": [
    "##### Simulated data: \n",
    "- Generate 10 means m<sub>k</sub> from a bivariate Gaussian distribution N((1,0)<sup>T</sup>,I) and label class Blue.\n",
    "- Generate 10 means m<sub>k</sub> from a bivariate Gaussian distribution N((0,1)<sup>T</sup>,I) and label class Orange.\n",
    "- for each class, generate 100 observations as follows:\n",
    "    - for each observation pick m<sub>k</sub> at random with probability 1/10 and generate N(m<sub>k</sub>,I/5)"
   ]
  },
  {
   "cell_type": "code",
   "execution_count": 1,
   "metadata": {},
   "outputs": [],
   "source": [
    "import numpy as np\n",
    "import random\n",
    "import pandas as pd\n",
    "\n",
    "np.random.seed(12)\n",
    "random.seed(12)"
   ]
  },
  {
   "cell_type": "code",
   "execution_count": 2,
   "metadata": {},
   "outputs": [
    {
     "data": {
      "image/png": "[encoded data removed]",
      "text/plain": [
       "<Figure size 432x288 with 1 Axes>"
      ]
     },
     "metadata": {
      "needs_background": "light"
     },
     "output_type": "display_data"
    }
   ],
   "source": [
    "def generate_data(points=100):\n",
    "\n",
    "    cov = np.identity(2)\n",
    "    classes = {\n",
    "        'blue':np.array([1,0]).T,\n",
    "        'orange':np.array([0,1]).T\n",
    "    }\n",
    "    data = []\n",
    "    for G in classes.keys():\n",
    "        means = np.random.multivariate_normal(classes[G],cov,size=10)\n",
    "        for i in range(0,points):\n",
    "            d = {'Y':G}\n",
    "            d['X_1'],d['X_2'] = np.random.multivariate_normal(random.choice(means),cov/5)\n",
    "            data.append(d)\n",
    "\n",
    "    df = pd.DataFrame.from_records(data)\n",
    "    return df\n",
    "df = generate_data()\n",
    "\n",
    "import matplotlib.pyplot as plt\n",
    "%matplotlib inline\n",
    "plt.scatter(df['X_1'],df['X_2'],c=df['Y'])\n",
    "plt.show()"
   ]
  },
  {
   "cell_type": "code",
   "execution_count": 3,
   "metadata": {},
   "outputs": [
    {
     "data": {
      "text/html": [
       "<div>\n",
       "<style scoped>\n",
       "    .dataframe tbody tr th:only-of-type {\n",
       "        vertical-align: middle;\n",
       "    }\n",
       "\n",
       "    .dataframe tbody tr th {\n",
       "        vertical-align: top;\n",
       "    }\n",
       "\n",
       "    .dataframe thead th {\n",
       "        text-align: right;\n",
       "    }\n",
       "</style>\n",
       "<table border=\"1\" class=\"dataframe\">\n",
       "  <thead>\n",
       "    <tr style=\"text-align: right;\">\n",
       "      <th></th>\n",
       "      <th>X_1</th>\n",
       "      <th>X_2</th>\n",
       "    </tr>\n",
       "  </thead>\n",
       "  <tbody>\n",
       "    <tr>\n",
       "      <th>count</th>\n",
       "      <td>200.000000</td>\n",
       "      <td>200.000000</td>\n",
       "    </tr>\n",
       "    <tr>\n",
       "      <th>mean</th>\n",
       "      <td>0.619625</td>\n",
       "      <td>0.322688</td>\n",
       "    </tr>\n",
       "    <tr>\n",
       "      <th>std</th>\n",
       "      <td>1.116156</td>\n",
       "      <td>1.456643</td>\n",
       "    </tr>\n",
       "    <tr>\n",
       "      <th>min</th>\n",
       "      <td>-1.965232</td>\n",
       "      <td>-2.414174</td>\n",
       "    </tr>\n",
       "    <tr>\n",
       "      <th>25%</th>\n",
       "      <td>-0.128479</td>\n",
       "      <td>-0.719751</td>\n",
       "    </tr>\n",
       "    <tr>\n",
       "      <th>50%</th>\n",
       "      <td>0.744332</td>\n",
       "      <td>0.179156</td>\n",
       "    </tr>\n",
       "    <tr>\n",
       "      <th>75%</th>\n",
       "      <td>1.386992</td>\n",
       "      <td>1.227957</td>\n",
       "    </tr>\n",
       "    <tr>\n",
       "      <th>max</th>\n",
       "      <td>3.113426</td>\n",
       "      <td>3.923839</td>\n",
       "    </tr>\n",
       "  </tbody>\n",
       "</table>\n",
       "</div>"
      ],
      "text/plain": [
       "              X_1         X_2\n",
       "count  200.000000  200.000000\n",
       "mean     0.619625    0.322688\n",
       "std      1.116156    1.456643\n",
       "min     -1.965232   -2.414174\n",
       "25%     -0.128479   -0.719751\n",
       "50%      0.744332    0.179156\n",
       "75%      1.386992    1.227957\n",
       "max      3.113426    3.923839"
      ]
     },
     "execution_count": 3,
     "metadata": {},
     "output_type": "execute_result"
    }
   ],
   "source": [
    "df.describe()"
   ]
  },
  {
   "cell_type": "markdown",
   "metadata": {},
   "source": [
    "### Gaussian Probability Density Function\n",
    "Used to calculate liklihood"
   ]
  },
  {
   "cell_type": "markdown",
   "metadata": {},
   "source": [
    "P(X|Y) = (1 / sqrt(2 * Pi) * sigma) * exp(-((x-mean^2 / ( 2 * sigma^2)))  "
   ]
  },
  {
   "cell_type": "code",
   "execution_count": 4,
   "metadata": {},
   "outputs": [],
   "source": [
    "from math import sqrt\n",
    "from math import pi\n",
    "from math import exp\n",
    "\n",
    "def calculate_probability(x,mean,stdev):\n",
    "    exponent = exp(-((x-mean)**2 / (2 * stdev**2)))\n",
    "    return (1 / (sqrt(2* pi) * stdev)) * exponent\n",
    "    "
   ]
  },
  {
   "cell_type": "code",
   "execution_count": 5,
   "metadata": {},
   "outputs": [
    {
     "data": {
      "text/plain": [
       "0.3192744865552416"
      ]
     },
     "execution_count": 5,
     "metadata": {},
     "output_type": "execute_result"
    }
   ],
   "source": [
    "x_1 = df.iloc[1]['X_1']\n",
    "\n",
    "blue_x1_mean = df[df['Y']=='blue']['X_1'].mean()\n",
    "blue_x1_std = df[df['Y']=='blue']['X_1'].std()\n",
    "\n",
    "calculate_probability(x_1,blue_x1_mean,blue_x1_std)"
   ]
  },
  {
   "cell_type": "markdown",
   "metadata": {},
   "source": [
    "P(class=0|X1,X2) = ( P(X1|class=0) * P(X2|class=0) ) / P(class=0)"
   ]
  },
  {
   "cell_type": "code",
   "execution_count": 6,
   "metadata": {},
   "outputs": [],
   "source": [
    "def class_probability(x,G,df):\n",
    "\n",
    "    X1_prob = calculate_probability(\n",
    "        x['X_1'],df[df['Y']==G]['X_1'].mean(),\n",
    "        df[df['Y']==G]['X_1'].std()\n",
    "    )\n",
    "    X2_prob = calculate_probability(\n",
    "        x['X_2'],df[df['Y']==G]['X_2'].mean(),\n",
    "        df[df['Y']==G]['X_2'].std()\n",
    "    )\n",
    "    class_prob = df[df['Y']==G].shape[0] / df.shape[0]\n",
    "    \n",
    "    return X1_prob * X2_prob * 1/class_prob\n",
    "    "
   ]
  },
  {
   "cell_type": "code",
   "execution_count": 7,
   "metadata": {},
   "outputs": [],
   "source": [
    "df['probability_blue'] = df.apply(lambda x: class_probability(x,'blue',df),axis=1)\n",
    "df['probability_orange'] = df.apply(lambda x: class_probability(x,'orange',df),axis=1)"
   ]
  },
  {
   "cell_type": "code",
   "execution_count": 8,
   "metadata": {},
   "outputs": [
    {
     "data": {
      "text/html": [
       "<div>\n",
       "<style scoped>\n",
       "    .dataframe tbody tr th:only-of-type {\n",
       "        vertical-align: middle;\n",
       "    }\n",
       "\n",
       "    .dataframe tbody tr th {\n",
       "        vertical-align: top;\n",
       "    }\n",
       "\n",
       "    .dataframe thead th {\n",
       "        text-align: right;\n",
       "    }\n",
       "</style>\n",
       "<table border=\"1\" class=\"dataframe\">\n",
       "  <thead>\n",
       "    <tr style=\"text-align: right;\">\n",
       "      <th></th>\n",
       "      <th>Y</th>\n",
       "      <th>X_1</th>\n",
       "      <th>X_2</th>\n",
       "      <th>probability_blue</th>\n",
       "      <th>probability_orange</th>\n",
       "    </tr>\n",
       "  </thead>\n",
       "  <tbody>\n",
       "    <tr>\n",
       "      <th>0</th>\n",
       "      <td>blue</td>\n",
       "      <td>2.566800</td>\n",
       "      <td>-0.060056</td>\n",
       "      <td>0.085333</td>\n",
       "      <td>0.006869</td>\n",
       "    </tr>\n",
       "    <tr>\n",
       "      <th>1</th>\n",
       "      <td>blue</td>\n",
       "      <td>0.479575</td>\n",
       "      <td>3.107650</td>\n",
       "      <td>0.005494</td>\n",
       "      <td>0.058732</td>\n",
       "    </tr>\n",
       "    <tr>\n",
       "      <th>2</th>\n",
       "      <td>blue</td>\n",
       "      <td>1.496270</td>\n",
       "      <td>-1.903702</td>\n",
       "      <td>0.126967</td>\n",
       "      <td>0.006322</td>\n",
       "    </tr>\n",
       "    <tr>\n",
       "      <th>3</th>\n",
       "      <td>blue</td>\n",
       "      <td>-0.349927</td>\n",
       "      <td>-0.327203</td>\n",
       "      <td>0.062067</td>\n",
       "      <td>0.134758</td>\n",
       "    </tr>\n",
       "    <tr>\n",
       "      <th>4</th>\n",
       "      <td>blue</td>\n",
       "      <td>0.760984</td>\n",
       "      <td>-1.824261</td>\n",
       "      <td>0.127204</td>\n",
       "      <td>0.016425</td>\n",
       "    </tr>\n",
       "    <tr>\n",
       "      <th>...</th>\n",
       "      <td>...</td>\n",
       "      <td>...</td>\n",
       "      <td>...</td>\n",
       "      <td>...</td>\n",
       "      <td>...</td>\n",
       "    </tr>\n",
       "    <tr>\n",
       "      <th>195</th>\n",
       "      <td>orange</td>\n",
       "      <td>0.931309</td>\n",
       "      <td>-0.040574</td>\n",
       "      <td>0.250583</td>\n",
       "      <td>0.119024</td>\n",
       "    </tr>\n",
       "    <tr>\n",
       "      <th>196</th>\n",
       "      <td>orange</td>\n",
       "      <td>0.621276</td>\n",
       "      <td>2.082037</td>\n",
       "      <td>0.037262</td>\n",
       "      <td>0.147808</td>\n",
       "    </tr>\n",
       "    <tr>\n",
       "      <th>197</th>\n",
       "      <td>orange</td>\n",
       "      <td>0.962541</td>\n",
       "      <td>2.202961</td>\n",
       "      <td>0.036960</td>\n",
       "      <td>0.104578</td>\n",
       "    </tr>\n",
       "    <tr>\n",
       "      <th>198</th>\n",
       "      <td>orange</td>\n",
       "      <td>-0.623863</td>\n",
       "      <td>0.365770</td>\n",
       "      <td>0.030176</td>\n",
       "      <td>0.177505</td>\n",
       "    </tr>\n",
       "    <tr>\n",
       "      <th>199</th>\n",
       "      <td>orange</td>\n",
       "      <td>1.449275</td>\n",
       "      <td>0.716171</td>\n",
       "      <td>0.184696</td>\n",
       "      <td>0.088560</td>\n",
       "    </tr>\n",
       "  </tbody>\n",
       "</table>\n",
       "<p>200 rows × 5 columns</p>\n",
       "</div>"
      ],
      "text/plain": [
       "          Y       X_1       X_2  probability_blue  probability_orange\n",
       "0      blue  2.566800 -0.060056          0.085333            0.006869\n",
       "1      blue  0.479575  3.107650          0.005494            0.058732\n",
       "2      blue  1.496270 -1.903702          0.126967            0.006322\n",
       "3      blue -0.349927 -0.327203          0.062067            0.134758\n",
       "4      blue  0.760984 -1.824261          0.127204            0.016425\n",
       "..      ...       ...       ...               ...                 ...\n",
       "195  orange  0.931309 -0.040574          0.250583            0.119024\n",
       "196  orange  0.621276  2.082037          0.037262            0.147808\n",
       "197  orange  0.962541  2.202961          0.036960            0.104578\n",
       "198  orange -0.623863  0.365770          0.030176            0.177505\n",
       "199  orange  1.449275  0.716171          0.184696            0.088560\n",
       "\n",
       "[200 rows x 5 columns]"
      ]
     },
     "execution_count": 8,
     "metadata": {},
     "output_type": "execute_result"
    }
   ],
   "source": [
    "df"
   ]
  },
  {
   "cell_type": "code",
   "execution_count": 9,
   "metadata": {},
   "outputs": [],
   "source": [
    "X_set = df[['X_1','X_2']].to_numpy()"
   ]
  },
  {
   "cell_type": "code",
   "execution_count": 10,
   "metadata": {},
   "outputs": [],
   "source": [
    "y_set = df['Y'].to_numpy()"
   ]
  },
  {
   "cell_type": "code",
   "execution_count": 11,
   "metadata": {},
   "outputs": [],
   "source": [
    "from matplotlib.colors import ListedColormap"
   ]
  },
  {
   "cell_type": "code",
   "execution_count": 12,
   "metadata": {},
   "outputs": [],
   "source": [
    "X1, X2 = np.meshgrid(np.arange(start = X_set[:, 0].min(), stop = X_set[:, 0].max(), step = 0.1),\n",
    "                     np.arange(start = X_set[:, 1].min(), stop = X_set[:, 1].max(), step = 0.1))"
   ]
  },
  {
   "cell_type": "code",
   "execution_count": 13,
   "metadata": {},
   "outputs": [],
   "source": [
    "decision_boundary = pd.DataFrame({'X_1':X1.ravel(),'X_2':X2.ravel()})"
   ]
  },
  {
   "cell_type": "code",
   "execution_count": 15,
   "metadata": {},
   "outputs": [],
   "source": [
    "decision_boundary['probability_blue'] = decision_boundary.apply(lambda x: class_probability(x,'blue',df),axis=1)\n",
    "decision_boundary['probability_orange'] = decision_boundary.apply(lambda x: class_probability(x,'orange',df),axis=1)"
   ]
  },
  {
   "cell_type": "code",
   "execution_count": 20,
   "metadata": {},
   "outputs": [
    {
     "data": {
      "text/html": [
       "<div>\n",
       "<style scoped>\n",
       "    .dataframe tbody tr th:only-of-type {\n",
       "        vertical-align: middle;\n",
       "    }\n",
       "\n",
       "    .dataframe tbody tr th {\n",
       "        vertical-align: top;\n",
       "    }\n",
       "\n",
       "    .dataframe thead th {\n",
       "        text-align: right;\n",
       "    }\n",
       "</style>\n",
       "<table border=\"1\" class=\"dataframe\">\n",
       "  <thead>\n",
       "    <tr style=\"text-align: right;\">\n",
       "      <th></th>\n",
       "      <th>X_1</th>\n",
       "      <th>X_2</th>\n",
       "      <th>probability_blue</th>\n",
       "      <th>probability_orange</th>\n",
       "    </tr>\n",
       "  </thead>\n",
       "  <tbody>\n",
       "    <tr>\n",
       "      <th>0</th>\n",
       "      <td>-1.965232</td>\n",
       "      <td>-2.414174</td>\n",
       "      <td>0.000171</td>\n",
       "      <td>0.000918</td>\n",
       "    </tr>\n",
       "    <tr>\n",
       "      <th>1</th>\n",
       "      <td>-1.865232</td>\n",
       "      <td>-2.414174</td>\n",
       "      <td>0.000250</td>\n",
       "      <td>0.001118</td>\n",
       "    </tr>\n",
       "    <tr>\n",
       "      <th>2</th>\n",
       "      <td>-1.765232</td>\n",
       "      <td>-2.414174</td>\n",
       "      <td>0.000362</td>\n",
       "      <td>0.001349</td>\n",
       "    </tr>\n",
       "    <tr>\n",
       "      <th>3</th>\n",
       "      <td>-1.665232</td>\n",
       "      <td>-2.414174</td>\n",
       "      <td>0.000516</td>\n",
       "      <td>0.001610</td>\n",
       "    </tr>\n",
       "    <tr>\n",
       "      <th>4</th>\n",
       "      <td>-1.565232</td>\n",
       "      <td>-2.414174</td>\n",
       "      <td>0.000727</td>\n",
       "      <td>0.001902</td>\n",
       "    </tr>\n",
       "    <tr>\n",
       "      <th>...</th>\n",
       "      <td>...</td>\n",
       "      <td>...</td>\n",
       "      <td>...</td>\n",
       "      <td>...</td>\n",
       "    </tr>\n",
       "    <tr>\n",
       "      <th>3259</th>\n",
       "      <td>2.634768</td>\n",
       "      <td>3.885826</td>\n",
       "      <td>0.000367</td>\n",
       "      <td>0.000646</td>\n",
       "    </tr>\n",
       "    <tr>\n",
       "      <th>3260</th>\n",
       "      <td>2.734768</td>\n",
       "      <td>3.885826</td>\n",
       "      <td>0.000307</td>\n",
       "      <td>0.000494</td>\n",
       "    </tr>\n",
       "    <tr>\n",
       "      <th>3261</th>\n",
       "      <td>2.834768</td>\n",
       "      <td>3.885826</td>\n",
       "      <td>0.000253</td>\n",
       "      <td>0.000374</td>\n",
       "    </tr>\n",
       "    <tr>\n",
       "      <th>3262</th>\n",
       "      <td>2.934768</td>\n",
       "      <td>3.885826</td>\n",
       "      <td>0.000207</td>\n",
       "      <td>0.000280</td>\n",
       "    </tr>\n",
       "    <tr>\n",
       "      <th>3263</th>\n",
       "      <td>3.034768</td>\n",
       "      <td>3.885826</td>\n",
       "      <td>0.000166</td>\n",
       "      <td>0.000208</td>\n",
       "    </tr>\n",
       "  </tbody>\n",
       "</table>\n",
       "<p>3264 rows × 4 columns</p>\n",
       "</div>"
      ],
      "text/plain": [
       "           X_1       X_2  probability_blue  probability_orange\n",
       "0    -1.965232 -2.414174          0.000171            0.000918\n",
       "1    -1.865232 -2.414174          0.000250            0.001118\n",
       "2    -1.765232 -2.414174          0.000362            0.001349\n",
       "3    -1.665232 -2.414174          0.000516            0.001610\n",
       "4    -1.565232 -2.414174          0.000727            0.001902\n",
       "...        ...       ...               ...                 ...\n",
       "3259  2.634768  3.885826          0.000367            0.000646\n",
       "3260  2.734768  3.885826          0.000307            0.000494\n",
       "3261  2.834768  3.885826          0.000253            0.000374\n",
       "3262  2.934768  3.885826          0.000207            0.000280\n",
       "3263  3.034768  3.885826          0.000166            0.000208\n",
       "\n",
       "[3264 rows x 4 columns]"
      ]
     },
     "execution_count": 20,
     "metadata": {},
     "output_type": "execute_result"
    }
   ],
   "source": [
    "decision_boundary"
   ]
  },
  {
   "cell_type": "code",
   "execution_count": 17,
   "metadata": {},
   "outputs": [],
   "source": [
    "pairs = []\n",
    "for x in decision_boundary['X_1'].unique():\n",
    "    X2 = decision_boundary[\n",
    "        (decision_boundary['X_1']==x)\n",
    "        &\n",
    "        (decision_boundary['probability_blue']>decision_boundary['probability_orange'])\n",
    "    ].sort_values(by='X_2',ascending=False)['X_2'].to_list()\n",
    "    \n",
    "    if len(X2)>0:\n",
    "        pairs.append((x,X2[0]))\n",
    "        "
   ]
  },
  {
   "cell_type": "code",
   "execution_count": 19,
   "metadata": {},
   "outputs": [
    {
     "data": {
      "image/png": "[encoded data removed]",
      "text/plain": [
       "<Figure size 432x288 with 1 Axes>"
      ]
     },
     "metadata": {
      "needs_background": "light"
     },
     "output_type": "display_data"
    }
   ],
   "source": [
    "x = [x[0] for x in pairs]\n",
    "y = [x[1] for x in pairs]\n",
    "\n",
    "plt.scatter(df['X_1'],df['X_2'],c=df['Y'])\n",
    "plt.plot(x,y)\n",
    "plt.show()"
   ]
  }
 ],
 "metadata": {
  "kernelspec": {
   "display_name": "Python 3",
   "language": "python",
   "name": "python3"
  },
  "language_info": {
   "codemirror_mode": {
    "name": "ipython",
    "version": 3
   },
   "file_extension": ".py",
   "mimetype": "text/x-python",
   "name": "python",
   "nbconvert_exporter": "python",
   "pygments_lexer": "ipython3",
   "version": "3.7.3"
  }
 },
 "nbformat": 4,
 "nbformat_minor": 4
}
